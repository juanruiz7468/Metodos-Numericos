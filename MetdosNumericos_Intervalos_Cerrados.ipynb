{
  "nbformat": 4,
  "nbformat_minor": 0,
  "metadata": {
    "colab": {
      "provenance": [],
      "include_colab_link": true
    },
    "kernelspec": {
      "name": "python3",
      "display_name": "Python 3"
    },
    "language_info": {
      "name": "python"
    }
  },
  "cells": [
    {
      "cell_type": "markdown",
      "metadata": {
        "id": "view-in-github",
        "colab_type": "text"
      },
      "source": [
        "<a href=\"https://colab.research.google.com/github/juanruiz7468/Metodos-Numericos/blob/main/MetdosNumericos_Intervalos_Cerrados.ipynb\" target=\"_parent\"><img src=\"https://colab.research.google.com/assets/colab-badge.svg\" alt=\"Open In Colab\"/></a>"
      ]
    },
    {
      "cell_type": "code",
      "execution_count": null,
      "metadata": {
        "colab": {
          "base_uri": "https://localhost:8080/"
        },
        "id": "2XeIkDq-egGj",
        "outputId": "6a64ce47-1b6c-400f-da88-b3a627194964"
      },
      "outputs": [
        {
          "output_type": "stream",
          "name": "stdout",
          "text": [
            "Drive already mounted at /content/drive; to attempt to forcibly remount, call drive.mount(\"/content/drive\", force_remount=True).\n",
            "4.229081898269328\n",
            "4.255617974431918\n",
            "4.3075060610501605\n",
            "4.712012241529881\n",
            "4.712394410762024\n"
          ]
        }
      ],
      "source": [
        "from logging import raiseExceptions\n",
        "import numpy as np\n",
        "from google.colab import drive\n",
        "drive.mount('/content/drive')\n",
        "def funcion(x):\n",
        "  return np.sin(10*x)+np.cos(3*x)\n",
        "def Metodo_De_Biseccion(x1, x2, tolerancia):\n",
        "    if funcion(x1) * funcion(x2) >= 0:\n",
        "        raise ValueError(\"La función debe tener signos opuestos en los extremos del intervalo.\")\n",
        "\n",
        "    while True:\n",
        "        x3 = (x1 + x2) / 2.0\n",
        "        if 0 <= funcion(x3) < tolerancia:\n",
        "            return x3\n",
        "        if funcion(x1) * funcion(x3) < 0:\n",
        "            x2 = x3\n",
        "        else:\n",
        "            x1 = x3\n",
        "def Metodo_De_La_Falsaposicion(x1,x2,tolerancia):\n",
        "  if funcion(x1) * funcion(x2) >= 0:\n",
        "    raise ValueError(\"La función debe tener signos opuestos en los extremos del intervalo.\")\n",
        "\n",
        "  while True:\n",
        "    x3 = x2 - (funcion(x2) * (x1 - x2)) / (funcion(x1) - funcion(x2))\n",
        "    print(x3)\n",
        "    if funcion(x1)*funcion(x3)<tolerancia:\n",
        "      return x3\n",
        "    if funcion(x1) * funcion(x3) < 0:\n",
        "      x2 = x3\n",
        "    else:\n",
        "      x1 = x3\n",
        "def Metodo_De_La_Falsaposicion_Modificado(x1,x2,tolerancia):\n",
        "    funcion_inferior=funcion(x1)\n",
        "    funcion_superior=funcion(x2)\n",
        "    estancamiento_inferior=0\n",
        "    estancamiento_superior=0\n",
        "    if funcion(x1) * funcion(x2) >= 0:\n",
        "      raise ValueError(\"La función debe tener signos opuestos en los extremos del intervalo.\")\n",
        "    while True:\n",
        "      x3 = x2 - (funcion_superior * (x1 - x2)) / (funcion_inferior - funcion_superior)\n",
        "      funcion_cambiante=funcion(x3)\n",
        "      print(x3)\n",
        "      if funcion_inferior*funcion_cambiante<tolerancia:\n",
        "        return x3\n",
        "      if funcion_inferior*funcion_cambiante< 0:\n",
        "        x2 = x3\n",
        "        funcion_superior=funcion(x2)\n",
        "        estancamiento_inferior+=1\n",
        "        estancamiento_superior=0\n",
        "        if estancamiento_inferior>=2:\n",
        "          funcion_inferior=funcion_inferior/2\n",
        "      else:\n",
        "        x1 = x3\n",
        "        funcion_inferior=funcion(x1)\n",
        "        estancamiento_superior+=1\n",
        "        estancamiento_inferior=0\n",
        "        if estancamiento_superior>=2:\n",
        "          funcion_superior=funcion_superior/2\n",
        "def Busqueda_Por_Incrementos(x1,x2,incrementos,tolerancia):\n",
        "  raiz=[]\n",
        "  while x1<=x2:\n",
        "    if funcion(x1)<0:\n",
        "      signo1=0\n",
        "    else:\n",
        "      signo1=1\n",
        "    x=float(x1)\n",
        "    while True:\n",
        "      if funcion(x)<0:\n",
        "        signo2=0\n",
        "        if signo2!=signo1:\n",
        "          raices=Metodo_De_La_Falsaposicion_Modificado(x1,x,tolerancia)\n",
        "          raiz.append(raices)\n",
        "          x1=x\n",
        "          break\n",
        "      else:\n",
        "        signo2=1\n",
        "        if signo2!=signo1:\n",
        "          raices=Metodo_De_La_Falsaposicion_Modificado(x1,x,tolerancia)\n",
        "          raiz.append(raices)\n",
        "          x1=x\n",
        "          break\n",
        "      x+=incrementos\n",
        "  return raiz\n",
        "Busqueda_Por_Incrementos(4.2,4.3,0.0001,1e-6)\n",
        "drive.flush_and_unmount()\n"
      ]
    }
  ]
}